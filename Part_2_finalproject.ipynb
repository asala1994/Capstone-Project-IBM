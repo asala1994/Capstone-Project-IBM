{
  "nbformat": 4,
  "nbformat_minor": 0,
  "metadata": {
    "colab": {
      "name": "Untitled0.ipynb",
      "provenance": [],
      "mount_file_id": "1vf7FkR8NlWtrbx2CbsVRSJqSGy7kE6vX",
      "authorship_tag": "ABX9TyN77aKI3okp8NjJr8HepEfW",
      "include_colab_link": true
    },
    "kernelspec": {
      "name": "python3",
      "display_name": "Python 3"
    }
  },
  "cells": [
    {
      "cell_type": "markdown",
      "metadata": {
        "id": "view-in-github",
        "colab_type": "text"
      },
      "source": [
        "<a href=\"https://colab.research.google.com/github/asala1994/Capstone-Project-IBM/blob/master/Part_2_finalproject.ipynb\" target=\"_parent\"><img src=\"https://colab.research.google.com/assets/colab-badge.svg\" alt=\"Open In Colab\"/></a>"
      ]
    },
    {
      "cell_type": "code",
      "metadata": {
        "id": "SUDj4q83o1zV",
        "colab_type": "code",
        "colab": {
          "base_uri": "https://localhost:8080/",
          "height": 243
        },
        "outputId": "696a1b5a-0727-438f-8d97-145d8d427967"
      },
      "source": [
        "import numpy as np # library to handle data in a vectorized manner\n",
        "\n",
        "import pandas as pd # library for data analsysis\n",
        "pd.set_option('display.max_columns', None)\n",
        "pd.set_option('display.max_rows', None)\n",
        "\n",
        "import json # library to handle JSON files\n",
        "\n",
        "!pip install geopy \n",
        "from geopy.geocoders import Nominatim # convert an address into latitude and longitude values\n",
        "\n",
        "import requests # library to handle requests\n",
        "from pandas.io.json import json_normalize # tranform JSON file into a pandas dataframe\n",
        "\n",
        "# Matplotlib and associated plotting modules\n",
        "import matplotlib.cm as cm\n",
        "import matplotlib.colors as colors\n",
        "\n",
        "# import k-means from clustering stage\n",
        "from sklearn.cluster import KMeans\n",
        "\n",
        "!pip install folium\n",
        "import folium # map rendering library"
      ],
      "execution_count": null,
      "outputs": [
        {
          "output_type": "stream",
          "text": [
            "Requirement already satisfied: geopy in /usr/local/lib/python3.6/dist-packages (1.17.0)\n",
            "Requirement already satisfied: geographiclib<2,>=1.49 in /usr/local/lib/python3.6/dist-packages (from geopy) (1.50)\n",
            "Requirement already satisfied: folium in /usr/local/lib/python3.6/dist-packages (0.8.3)\n",
            "Requirement already satisfied: six in /usr/local/lib/python3.6/dist-packages (from folium) (1.12.0)\n",
            "Requirement already satisfied: requests in /usr/local/lib/python3.6/dist-packages (from folium) (2.23.0)\n",
            "Requirement already satisfied: jinja2 in /usr/local/lib/python3.6/dist-packages (from folium) (2.11.2)\n",
            "Requirement already satisfied: numpy in /usr/local/lib/python3.6/dist-packages (from folium) (1.18.5)\n",
            "Requirement already satisfied: branca>=0.3.0 in /usr/local/lib/python3.6/dist-packages (from folium) (0.4.1)\n",
            "Requirement already satisfied: idna<3,>=2.5 in /usr/local/lib/python3.6/dist-packages (from requests->folium) (2.9)\n",
            "Requirement already satisfied: urllib3!=1.25.0,!=1.25.1,<1.26,>=1.21.1 in /usr/local/lib/python3.6/dist-packages (from requests->folium) (1.24.3)\n",
            "Requirement already satisfied: certifi>=2017.4.17 in /usr/local/lib/python3.6/dist-packages (from requests->folium) (2020.6.20)\n",
            "Requirement already satisfied: chardet<4,>=3.0.2 in /usr/local/lib/python3.6/dist-packages (from requests->folium) (3.0.4)\n",
            "Requirement already satisfied: MarkupSafe>=0.23 in /usr/local/lib/python3.6/dist-packages (from jinja2->folium) (1.1.1)\n"
          ],
          "name": "stdout"
        }
      ]
    },
    {
      "cell_type": "markdown",
      "metadata": {
        "id": "meA_OaJBaBu4",
        "colab_type": "text"
      },
      "source": [
        "# **Here we will compare the clusters with income and nationality**"
      ]
    },
    {
      "cell_type": "code",
      "metadata": {
        "id": "iHlPE_CdaMPg",
        "colab_type": "code",
        "colab": {}
      },
      "source": [
        ""
      ],
      "execution_count": null,
      "outputs": []
    },
    {
      "cell_type": "markdown",
      "metadata": {
        "id": "FKIHpKTLaLFq",
        "colab_type": "text"
      },
      "source": [
        "**Upload and cleaning of the household income by neighborhood**"
      ]
    },
    {
      "cell_type": "code",
      "metadata": {
        "id": "iPkEP1OdpLDh",
        "colab_type": "code",
        "colab": {}
      },
      "source": [
        "money=pd.read_csv('/content/drive/My Drive/Colab Notebooks/Data Science Certification/Capstone Project/2017_rendatributariamitjanaunitatconsum.csv')"
      ],
      "execution_count": null,
      "outputs": []
    },
    {
      "cell_type": "code",
      "metadata": {
        "id": "6DfMKQq7pqy3",
        "colab_type": "code",
        "colab": {
          "base_uri": "https://localhost:8080/",
          "height": 202
        },
        "outputId": "41a82a64-7bde-4f3d-e91d-b08dde075213"
      },
      "source": [
        "money.head()"
      ],
      "execution_count": null,
      "outputs": [
        {
          "output_type": "execute_result",
          "data": {
            "text/html": [
              "<div>\n",
              "<style scoped>\n",
              "    .dataframe tbody tr th:only-of-type {\n",
              "        vertical-align: middle;\n",
              "    }\n",
              "\n",
              "    .dataframe tbody tr th {\n",
              "        vertical-align: top;\n",
              "    }\n",
              "\n",
              "    .dataframe thead th {\n",
              "        text-align: right;\n",
              "    }\n",
              "</style>\n",
              "<table border=\"1\" class=\"dataframe\">\n",
              "  <thead>\n",
              "    <tr style=\"text-align: right;\">\n",
              "      <th></th>\n",
              "      <th>Any</th>\n",
              "      <th>Codi_Districte</th>\n",
              "      <th>Nom_Districte</th>\n",
              "      <th>Codi_Barri</th>\n",
              "      <th>Nom_Barri</th>\n",
              "      <th>Seccio_Censal</th>\n",
              "      <th>Import_Euros</th>\n",
              "    </tr>\n",
              "  </thead>\n",
              "  <tbody>\n",
              "    <tr>\n",
              "      <th>0</th>\n",
              "      <td>2017</td>\n",
              "      <td>1</td>\n",
              "      <td>Ciutat Vella</td>\n",
              "      <td>1</td>\n",
              "      <td>el Raval</td>\n",
              "      <td>1</td>\n",
              "      <td>26107</td>\n",
              "    </tr>\n",
              "    <tr>\n",
              "      <th>1</th>\n",
              "      <td>2017</td>\n",
              "      <td>1</td>\n",
              "      <td>Ciutat Vella</td>\n",
              "      <td>1</td>\n",
              "      <td>el Raval</td>\n",
              "      <td>2</td>\n",
              "      <td>21293</td>\n",
              "    </tr>\n",
              "    <tr>\n",
              "      <th>2</th>\n",
              "      <td>2017</td>\n",
              "      <td>1</td>\n",
              "      <td>Ciutat Vella</td>\n",
              "      <td>1</td>\n",
              "      <td>el Raval</td>\n",
              "      <td>3</td>\n",
              "      <td>23006</td>\n",
              "    </tr>\n",
              "    <tr>\n",
              "      <th>3</th>\n",
              "      <td>2017</td>\n",
              "      <td>1</td>\n",
              "      <td>Ciutat Vella</td>\n",
              "      <td>1</td>\n",
              "      <td>el Raval</td>\n",
              "      <td>4</td>\n",
              "      <td>26101</td>\n",
              "    </tr>\n",
              "    <tr>\n",
              "      <th>4</th>\n",
              "      <td>2017</td>\n",
              "      <td>1</td>\n",
              "      <td>Ciutat Vella</td>\n",
              "      <td>1</td>\n",
              "      <td>el Raval</td>\n",
              "      <td>5</td>\n",
              "      <td>20926</td>\n",
              "    </tr>\n",
              "  </tbody>\n",
              "</table>\n",
              "</div>"
            ],
            "text/plain": [
              "    Any  Codi_Districte Nom_Districte  Codi_Barri Nom_Barri  Seccio_Censal  \\\n",
              "0  2017               1  Ciutat Vella           1  el Raval              1   \n",
              "1  2017               1  Ciutat Vella           1  el Raval              2   \n",
              "2  2017               1  Ciutat Vella           1  el Raval              3   \n",
              "3  2017               1  Ciutat Vella           1  el Raval              4   \n",
              "4  2017               1  Ciutat Vella           1  el Raval              5   \n",
              "\n",
              "   Import_Euros  \n",
              "0         26107  \n",
              "1         21293  \n",
              "2         23006  \n",
              "3         26101  \n",
              "4         20926  "
            ]
          },
          "metadata": {
            "tags": []
          },
          "execution_count": 4
        }
      ]
    },
    {
      "cell_type": "code",
      "metadata": {
        "id": "alb2WAWBaPPe",
        "colab_type": "code",
        "colab": {}
      },
      "source": [
        "money=money.rename(columns={\"Nom_Barri\": \"Neighborhood.Name\"})"
      ],
      "execution_count": null,
      "outputs": []
    },
    {
      "cell_type": "code",
      "metadata": {
        "id": "bBCGf-obbNf-",
        "colab_type": "code",
        "colab": {
          "base_uri": "https://localhost:8080/",
          "height": 202
        },
        "outputId": "728f3293-7bf1-42f2-80c3-4ceedb907a7f"
      },
      "source": [
        "money.head()"
      ],
      "execution_count": null,
      "outputs": [
        {
          "output_type": "execute_result",
          "data": {
            "text/html": [
              "<div>\n",
              "<style scoped>\n",
              "    .dataframe tbody tr th:only-of-type {\n",
              "        vertical-align: middle;\n",
              "    }\n",
              "\n",
              "    .dataframe tbody tr th {\n",
              "        vertical-align: top;\n",
              "    }\n",
              "\n",
              "    .dataframe thead th {\n",
              "        text-align: right;\n",
              "    }\n",
              "</style>\n",
              "<table border=\"1\" class=\"dataframe\">\n",
              "  <thead>\n",
              "    <tr style=\"text-align: right;\">\n",
              "      <th></th>\n",
              "      <th>Any</th>\n",
              "      <th>Codi_Districte</th>\n",
              "      <th>Nom_Districte</th>\n",
              "      <th>Codi_Barri</th>\n",
              "      <th>Neighborhood.Name</th>\n",
              "      <th>Seccio_Censal</th>\n",
              "      <th>Import_Euros</th>\n",
              "    </tr>\n",
              "  </thead>\n",
              "  <tbody>\n",
              "    <tr>\n",
              "      <th>0</th>\n",
              "      <td>2017</td>\n",
              "      <td>1</td>\n",
              "      <td>Ciutat Vella</td>\n",
              "      <td>1</td>\n",
              "      <td>el Raval</td>\n",
              "      <td>1</td>\n",
              "      <td>26107</td>\n",
              "    </tr>\n",
              "    <tr>\n",
              "      <th>1</th>\n",
              "      <td>2017</td>\n",
              "      <td>1</td>\n",
              "      <td>Ciutat Vella</td>\n",
              "      <td>1</td>\n",
              "      <td>el Raval</td>\n",
              "      <td>2</td>\n",
              "      <td>21293</td>\n",
              "    </tr>\n",
              "    <tr>\n",
              "      <th>2</th>\n",
              "      <td>2017</td>\n",
              "      <td>1</td>\n",
              "      <td>Ciutat Vella</td>\n",
              "      <td>1</td>\n",
              "      <td>el Raval</td>\n",
              "      <td>3</td>\n",
              "      <td>23006</td>\n",
              "    </tr>\n",
              "    <tr>\n",
              "      <th>3</th>\n",
              "      <td>2017</td>\n",
              "      <td>1</td>\n",
              "      <td>Ciutat Vella</td>\n",
              "      <td>1</td>\n",
              "      <td>el Raval</td>\n",
              "      <td>4</td>\n",
              "      <td>26101</td>\n",
              "    </tr>\n",
              "    <tr>\n",
              "      <th>4</th>\n",
              "      <td>2017</td>\n",
              "      <td>1</td>\n",
              "      <td>Ciutat Vella</td>\n",
              "      <td>1</td>\n",
              "      <td>el Raval</td>\n",
              "      <td>5</td>\n",
              "      <td>20926</td>\n",
              "    </tr>\n",
              "  </tbody>\n",
              "</table>\n",
              "</div>"
            ],
            "text/plain": [
              "    Any  Codi_Districte Nom_Districte  Codi_Barri Neighborhood.Name  \\\n",
              "0  2017               1  Ciutat Vella           1          el Raval   \n",
              "1  2017               1  Ciutat Vella           1          el Raval   \n",
              "2  2017               1  Ciutat Vella           1          el Raval   \n",
              "3  2017               1  Ciutat Vella           1          el Raval   \n",
              "4  2017               1  Ciutat Vella           1          el Raval   \n",
              "\n",
              "   Seccio_Censal  Import_Euros  \n",
              "0              1         26107  \n",
              "1              2         21293  \n",
              "2              3         23006  \n",
              "3              4         26101  \n",
              "4              5         20926  "
            ]
          },
          "metadata": {
            "tags": []
          },
          "execution_count": 49
        }
      ]
    },
    {
      "cell_type": "code",
      "metadata": {
        "id": "-CL0bIGnrNw2",
        "colab_type": "code",
        "colab": {}
      },
      "source": [
        "clusters=pd.read_csv('/content/drive/My Drive/Colab Notebooks/Data Science Certification/Capstone Project/bcn_clusters.csv')"
      ],
      "execution_count": null,
      "outputs": []
    },
    {
      "cell_type": "code",
      "metadata": {
        "id": "hol33chrpr_M",
        "colab_type": "code",
        "colab": {
          "base_uri": "https://localhost:8080/",
          "height": 202
        },
        "outputId": "ff2f244b-8a00-4a34-a003-68dfc96edea9"
      },
      "source": [
        "clusters.head()"
      ],
      "execution_count": null,
      "outputs": [
        {
          "output_type": "execute_result",
          "data": {
            "text/html": [
              "<div>\n",
              "<style scoped>\n",
              "    .dataframe tbody tr th:only-of-type {\n",
              "        vertical-align: middle;\n",
              "    }\n",
              "\n",
              "    .dataframe tbody tr th {\n",
              "        vertical-align: top;\n",
              "    }\n",
              "\n",
              "    .dataframe thead th {\n",
              "        text-align: right;\n",
              "    }\n",
              "</style>\n",
              "<table border=\"1\" class=\"dataframe\">\n",
              "  <thead>\n",
              "    <tr style=\"text-align: right;\">\n",
              "      <th></th>\n",
              "      <th>Unnamed: 0</th>\n",
              "      <th>Neighborhood.Name</th>\n",
              "      <th>Cluster Labels</th>\n",
              "    </tr>\n",
              "  </thead>\n",
              "  <tbody>\n",
              "    <tr>\n",
              "      <th>0</th>\n",
              "      <td>0</td>\n",
              "      <td>el Raval</td>\n",
              "      <td>1</td>\n",
              "    </tr>\n",
              "    <tr>\n",
              "      <th>1</th>\n",
              "      <td>1</td>\n",
              "      <td>el Barri Gòtic</td>\n",
              "      <td>1</td>\n",
              "    </tr>\n",
              "    <tr>\n",
              "      <th>2</th>\n",
              "      <td>2</td>\n",
              "      <td>la Barceloneta</td>\n",
              "      <td>1</td>\n",
              "    </tr>\n",
              "    <tr>\n",
              "      <th>3</th>\n",
              "      <td>3</td>\n",
              "      <td>Sant Pere, Santa Caterina i la Ribera</td>\n",
              "      <td>1</td>\n",
              "    </tr>\n",
              "    <tr>\n",
              "      <th>4</th>\n",
              "      <td>4</td>\n",
              "      <td>el Fort Pienc</td>\n",
              "      <td>1</td>\n",
              "    </tr>\n",
              "  </tbody>\n",
              "</table>\n",
              "</div>"
            ],
            "text/plain": [
              "   Unnamed: 0                      Neighborhood.Name  Cluster Labels\n",
              "0           0                               el Raval               1\n",
              "1           1                         el Barri Gòtic               1\n",
              "2           2                         la Barceloneta               1\n",
              "3           3  Sant Pere, Santa Caterina i la Ribera               1\n",
              "4           4                          el Fort Pienc               1"
            ]
          },
          "metadata": {
            "tags": []
          },
          "execution_count": 7
        }
      ]
    },
    {
      "cell_type": "code",
      "metadata": {
        "id": "jJtGvhUDZGgn",
        "colab_type": "code",
        "colab": {}
      },
      "source": [
        "money_merged=clusters.merge(money, on=\"Neighborhood.Name\")"
      ],
      "execution_count": null,
      "outputs": []
    },
    {
      "cell_type": "code",
      "metadata": {
        "id": "gvevfshja4_U",
        "colab_type": "code",
        "colab": {
          "base_uri": "https://localhost:8080/",
          "height": 239
        },
        "outputId": "6c6627a3-255c-49ad-95e1-c8d95aa9d784"
      },
      "source": [
        "money_merged.head()"
      ],
      "execution_count": null,
      "outputs": [
        {
          "output_type": "execute_result",
          "data": {
            "text/html": [
              "<div>\n",
              "<style scoped>\n",
              "    .dataframe tbody tr th:only-of-type {\n",
              "        vertical-align: middle;\n",
              "    }\n",
              "\n",
              "    .dataframe tbody tr th {\n",
              "        vertical-align: top;\n",
              "    }\n",
              "\n",
              "    .dataframe thead th {\n",
              "        text-align: right;\n",
              "    }\n",
              "</style>\n",
              "<table border=\"1\" class=\"dataframe\">\n",
              "  <thead>\n",
              "    <tr style=\"text-align: right;\">\n",
              "      <th></th>\n",
              "      <th>Unnamed: 0</th>\n",
              "      <th>Neighborhood.Name</th>\n",
              "      <th>Cluster Labels</th>\n",
              "      <th>Any</th>\n",
              "      <th>Codi_Districte</th>\n",
              "      <th>Nom_Districte</th>\n",
              "      <th>Codi_Barri</th>\n",
              "      <th>Seccio_Censal</th>\n",
              "      <th>Import_Euros</th>\n",
              "    </tr>\n",
              "  </thead>\n",
              "  <tbody>\n",
              "    <tr>\n",
              "      <th>0</th>\n",
              "      <td>0</td>\n",
              "      <td>el Raval</td>\n",
              "      <td>1</td>\n",
              "      <td>2017</td>\n",
              "      <td>1</td>\n",
              "      <td>Ciutat Vella</td>\n",
              "      <td>1</td>\n",
              "      <td>1</td>\n",
              "      <td>26107</td>\n",
              "    </tr>\n",
              "    <tr>\n",
              "      <th>1</th>\n",
              "      <td>0</td>\n",
              "      <td>el Raval</td>\n",
              "      <td>1</td>\n",
              "      <td>2017</td>\n",
              "      <td>1</td>\n",
              "      <td>Ciutat Vella</td>\n",
              "      <td>1</td>\n",
              "      <td>2</td>\n",
              "      <td>21293</td>\n",
              "    </tr>\n",
              "    <tr>\n",
              "      <th>2</th>\n",
              "      <td>0</td>\n",
              "      <td>el Raval</td>\n",
              "      <td>1</td>\n",
              "      <td>2017</td>\n",
              "      <td>1</td>\n",
              "      <td>Ciutat Vella</td>\n",
              "      <td>1</td>\n",
              "      <td>3</td>\n",
              "      <td>23006</td>\n",
              "    </tr>\n",
              "    <tr>\n",
              "      <th>3</th>\n",
              "      <td>0</td>\n",
              "      <td>el Raval</td>\n",
              "      <td>1</td>\n",
              "      <td>2017</td>\n",
              "      <td>1</td>\n",
              "      <td>Ciutat Vella</td>\n",
              "      <td>1</td>\n",
              "      <td>4</td>\n",
              "      <td>26101</td>\n",
              "    </tr>\n",
              "    <tr>\n",
              "      <th>4</th>\n",
              "      <td>0</td>\n",
              "      <td>el Raval</td>\n",
              "      <td>1</td>\n",
              "      <td>2017</td>\n",
              "      <td>1</td>\n",
              "      <td>Ciutat Vella</td>\n",
              "      <td>1</td>\n",
              "      <td>5</td>\n",
              "      <td>20926</td>\n",
              "    </tr>\n",
              "  </tbody>\n",
              "</table>\n",
              "</div>"
            ],
            "text/plain": [
              "   Unnamed: 0 Neighborhood.Name  Cluster Labels   Any  Codi_Districte  \\\n",
              "0           0          el Raval               1  2017               1   \n",
              "1           0          el Raval               1  2017               1   \n",
              "2           0          el Raval               1  2017               1   \n",
              "3           0          el Raval               1  2017               1   \n",
              "4           0          el Raval               1  2017               1   \n",
              "\n",
              "  Nom_Districte  Codi_Barri  Seccio_Censal  Import_Euros  \n",
              "0  Ciutat Vella           1              1         26107  \n",
              "1  Ciutat Vella           1              2         21293  \n",
              "2  Ciutat Vella           1              3         23006  \n",
              "3  Ciutat Vella           1              4         26101  \n",
              "4  Ciutat Vella           1              5         20926  "
            ]
          },
          "metadata": {
            "tags": []
          },
          "execution_count": 15
        }
      ]
    },
    {
      "cell_type": "code",
      "metadata": {
        "id": "mhaijryZbeH4",
        "colab_type": "code",
        "colab": {}
      },
      "source": [
        "money_merged=money_merged.drop(['Unnamed: 0','Any',\t'Codi_Districte',\t'Nom_Districte',\t'Codi_Barri',\t'Seccio_Censal'\t], axis=1)"
      ],
      "execution_count": null,
      "outputs": []
    },
    {
      "cell_type": "code",
      "metadata": {
        "id": "zP0Sqoenb5IP",
        "colab_type": "code",
        "colab": {
          "base_uri": "https://localhost:8080/",
          "height": 202
        },
        "outputId": "043d5758-0de5-4d51-a3ad-f22bf05567bb"
      },
      "source": [
        "money_merged.head()"
      ],
      "execution_count": null,
      "outputs": [
        {
          "output_type": "execute_result",
          "data": {
            "text/html": [
              "<div>\n",
              "<style scoped>\n",
              "    .dataframe tbody tr th:only-of-type {\n",
              "        vertical-align: middle;\n",
              "    }\n",
              "\n",
              "    .dataframe tbody tr th {\n",
              "        vertical-align: top;\n",
              "    }\n",
              "\n",
              "    .dataframe thead th {\n",
              "        text-align: right;\n",
              "    }\n",
              "</style>\n",
              "<table border=\"1\" class=\"dataframe\">\n",
              "  <thead>\n",
              "    <tr style=\"text-align: right;\">\n",
              "      <th></th>\n",
              "      <th>Neighborhood.Name</th>\n",
              "      <th>Cluster Labels</th>\n",
              "      <th>Import_Euros</th>\n",
              "    </tr>\n",
              "  </thead>\n",
              "  <tbody>\n",
              "    <tr>\n",
              "      <th>0</th>\n",
              "      <td>el Raval</td>\n",
              "      <td>1</td>\n",
              "      <td>26107</td>\n",
              "    </tr>\n",
              "    <tr>\n",
              "      <th>1</th>\n",
              "      <td>el Raval</td>\n",
              "      <td>1</td>\n",
              "      <td>21293</td>\n",
              "    </tr>\n",
              "    <tr>\n",
              "      <th>2</th>\n",
              "      <td>el Raval</td>\n",
              "      <td>1</td>\n",
              "      <td>23006</td>\n",
              "    </tr>\n",
              "    <tr>\n",
              "      <th>3</th>\n",
              "      <td>el Raval</td>\n",
              "      <td>1</td>\n",
              "      <td>26101</td>\n",
              "    </tr>\n",
              "    <tr>\n",
              "      <th>4</th>\n",
              "      <td>el Raval</td>\n",
              "      <td>1</td>\n",
              "      <td>20926</td>\n",
              "    </tr>\n",
              "  </tbody>\n",
              "</table>\n",
              "</div>"
            ],
            "text/plain": [
              "  Neighborhood.Name  Cluster Labels  Import_Euros\n",
              "0          el Raval               1         26107\n",
              "1          el Raval               1         21293\n",
              "2          el Raval               1         23006\n",
              "3          el Raval               1         26101\n",
              "4          el Raval               1         20926"
            ]
          },
          "metadata": {
            "tags": []
          },
          "execution_count": 17
        }
      ]
    },
    {
      "cell_type": "markdown",
      "metadata": {
        "id": "zVCWp_EFawvy",
        "colab_type": "text"
      },
      "source": [
        "# **Boxplot of Income vs clusters**"
      ]
    },
    {
      "cell_type": "code",
      "metadata": {
        "id": "SQSRXPa9b8L0",
        "colab_type": "code",
        "colab": {}
      },
      "source": [
        "import matplotlib.pyplot as plt"
      ],
      "execution_count": null,
      "outputs": []
    },
    {
      "cell_type": "code",
      "metadata": {
        "id": "1S6zDONgeDoZ",
        "colab_type": "code",
        "colab": {}
      },
      "source": [
        "list(money_merged[money_merged['Cluster Labels'] == 1]['Import_Euros'])"
      ],
      "execution_count": null,
      "outputs": []
    },
    {
      "cell_type": "code",
      "metadata": {
        "id": "CqaHVqVGd9V5",
        "colab_type": "code",
        "colab": {}
      },
      "source": [
        "[money_merged[list(money_merged['Cluster Labels'] == i]['Import_Euros']) for i in range(7)]"
      ],
      "execution_count": null,
      "outputs": []
    },
    {
      "cell_type": "code",
      "metadata": {
        "id": "yiWrYYQ4cO4g",
        "colab_type": "code",
        "colab": {
          "base_uri": "https://localhost:8080/",
          "height": 297
        },
        "outputId": "3cd754fb-65df-41ff-aa1e-7a57db5ea4ca"
      },
      "source": [
        "plt.boxplot([list(money_merged[money_merged['Cluster Labels'] == i]['Import_Euros']) for i in range(7)])\n",
        "plt.xlabel('Cluster')\n",
        "plt.ylabel('Income by Family')"
      ],
      "execution_count": null,
      "outputs": [
        {
          "output_type": "execute_result",
          "data": {
            "text/plain": [
              "Text(0, 0.5, 'Income by Family')"
            ]
          },
          "metadata": {
            "tags": []
          },
          "execution_count": 34
        },
        {
          "output_type": "display_data",
          "data": {
            "image/png": "[encoded data removed]",
            "text/plain": [
              "<Figure size 432x288 with 1 Axes>"
            ]
          },
          "metadata": {
            "tags": [],
            "needs_background": "light"
          }
        }
      ]
    },
    {
      "cell_type": "markdown",
      "metadata": {
        "id": "3ZlHaM9_a3Gw",
        "colab_type": "text"
      },
      "source": [
        "# **Violin Plot of income vs clusters**"
      ]
    },
    {
      "cell_type": "code",
      "metadata": {
        "id": "JBdMleV4cjZ6",
        "colab_type": "code",
        "colab": {
          "base_uri": "https://localhost:8080/",
          "height": 72
        },
        "outputId": "54b334a2-aca7-4cae-a46f-28290e7f79f1"
      },
      "source": [
        "import seaborn as sns"
      ],
      "execution_count": null,
      "outputs": [
        {
          "output_type": "stream",
          "text": [
            "/usr/local/lib/python3.6/dist-packages/statsmodels/tools/_testing.py:19: FutureWarning: pandas.util.testing is deprecated. Use the functions in the public API at pandas.testing instead.\n",
            "  import pandas.util.testing as tm\n"
          ],
          "name": "stderr"
        }
      ]
    },
    {
      "cell_type": "code",
      "metadata": {
        "id": "uADuZ4fFfNKS",
        "colab_type": "code",
        "colab": {
          "base_uri": "https://localhost:8080/",
          "height": 279
        },
        "outputId": "c118acfe-2ffe-4f70-9291-107872af8df4"
      },
      "source": [
        "ax = sns.violinplot(x=\"Cluster Labels\", y=\"Import_Euros\", data=money_merged)"
      ],
      "execution_count": null,
      "outputs": [
        {
          "output_type": "display_data",
          "data": {
            "image/png": "[encoded data removed]",
            "text/plain": [
              "<Figure size 432x288 with 1 Axes>"
            ]
          },
          "metadata": {
            "tags": [],
            "needs_background": "light"
          }
        }
      ]
    },
    {
      "cell_type": "markdown",
      "metadata": {
        "id": "GHvMiKDgbALi",
        "colab_type": "text"
      },
      "source": [
        "# **Nationality data ordering and calculating in order to get a foreign nationality rate by neighborhood**"
      ]
    },
    {
      "cell_type": "code",
      "metadata": {
        "id": "i53XWEFsgEhd",
        "colab_type": "code",
        "colab": {}
      },
      "source": [
        "nationality/content/drive/My Drive/Colab Notebooks/Data Science Certification/Capstone Project/2019_domicilis_nacionalitat_espanyola_estrangera.csv')"
      ],
      "execution_count": null,
      "outputs": []
    },
    {
      "cell_type": "code",
      "metadata": {
        "id": "ENyWWHfHh5G6",
        "colab_type": "code",
        "colab": {}
      },
      "source": [
        "nationality=nationality.rename(columns={\"Nom_barri\": \"Neighborhood.Name\"})"
      ],
      "execution_count": null,
      "outputs": []
    },
    {
      "cell_type": "code",
      "metadata": {
        "id": "zdLxBTr6mNDy",
        "colab_type": "code",
        "colab": {}
      },
      "source": [
        "nationality[\"Nombre Esp\"] = 0\n",
        "nationality[\"Nombre Estrangers\"] = 0\n",
        "\n",
        "for i, row in nationality.iterrows():\n",
        "    nat = row[\"Nacionalitat\"]\n",
        "    num = row[\"Nombre\"]\n",
        "    if  nat == \"1 espanyol\":\n",
        "        row['Nombre Esp'] = num\n",
        "    elif nat == \"2 espanyols\":\n",
        "        row['Nombre Esp'] = 2*num \n",
        "    elif nat == \"3 espanyols\":\n",
        "        row['Nombre Esp'] = 3*num\n",
        "    elif nat == \"4 espanyols o més\":\n",
        "        row['Nombre Esp'] = 4*num\n",
        "    elif  nat == \"1 estranger\":\n",
        "        row['Nombre Estrangers'] = num\n",
        "    elif nat == \"2 estrangers\":\n",
        "        row['Nombre Estrangers'] = 2*num \n",
        "    elif nat == \"3 estrangers\":\n",
        "        row['Nombre Estrangers'] = 3*num\n",
        "    elif nat == \"4 estrangers o més\":\n",
        "        row['Nombre Estrangers'] = 4*num\n",
        "    else:\n",
        "        print(\"Error: \", nat)\n",
        "    nationality.loc[i,'Nombre Estrangers'] = row['Nombre Estrangers']\n",
        "    nationality.loc[i,'Nombre Esp'] = row['Nombre Esp']"
      ],
      "execution_count": null,
      "outputs": []
    },
    {
      "cell_type": "code",
      "metadata": {
        "id": "B7_bPd-jiCjz",
        "colab_type": "code",
        "colab": {}
      },
      "source": [
        "gb_neighborhood = nationality.groupby([\"Neighborhood.Name\"])\n",
        "gb_neighborhood_total_pop = gb_neighborhood[\"Nombre Esp\"].sum() + gb_neighborhood[\"Nombre Estrangers\"].sum()\n",
        "gb_neighborhood_percent_estrangers = gb_neighborhood[\"Nombre Estrangers\"].sum() / gb_neighborhood_total_pop"
      ],
      "execution_count": null,
      "outputs": []
    },
    {
      "cell_type": "code",
      "metadata": {
        "id": "djLZ6s3Pr3J2",
        "colab_type": "code",
        "colab": {}
      },
      "source": [
        "nationalityrate=gb_neighborhood_percent_estrangers.to_frame()"
      ],
      "execution_count": null,
      "outputs": []
    },
    {
      "cell_type": "code",
      "metadata": {
        "id": "tHlCt32rvPTJ",
        "colab_type": "code",
        "colab": {}
      },
      "source": [
        "nationalityrate=nationalityrate.rename(columns={0: \"rate\"})"
      ],
      "execution_count": null,
      "outputs": []
    },
    {
      "cell_type": "code",
      "metadata": {
        "id": "jVwQiik5sfYl",
        "colab_type": "code",
        "colab": {}
      },
      "source": [
        "nationalityrate_merged=clusters.merge(nationalityrate, on='Neighborhood.Name')"
      ],
      "execution_count": null,
      "outputs": []
    },
    {
      "cell_type": "code",
      "metadata": {
        "id": "sKKrWb5qvpdK",
        "colab_type": "code",
        "colab": {
          "base_uri": "https://localhost:8080/",
          "height": 1000
        },
        "outputId": "c8130bb9-d073-464c-9174-cce70e16353e"
      },
      "source": [
        "nationalityrate_merged"
      ],
      "execution_count": null,
      "outputs": [
        {
          "output_type": "execute_result",
          "data": {
            "text/html": [
              "<div>\n",
              "<style scoped>\n",
              "    .dataframe tbody tr th:only-of-type {\n",
              "        vertical-align: middle;\n",
              "    }\n",
              "\n",
              "    .dataframe tbody tr th {\n",
              "        vertical-align: top;\n",
              "    }\n",
              "\n",
              "    .dataframe thead th {\n",
              "        text-align: right;\n",
              "    }\n",
              "</style>\n",
              "<table border=\"1\" class=\"dataframe\">\n",
              "  <thead>\n",
              "    <tr style=\"text-align: right;\">\n",
              "      <th></th>\n",
              "      <th>Unnamed: 0</th>\n",
              "      <th>Neighborhood.Name</th>\n",
              "      <th>Cluster Labels</th>\n",
              "      <th>rate</th>\n",
              "    </tr>\n",
              "  </thead>\n",
              "  <tbody>\n",
              "    <tr>\n",
              "      <th>0</th>\n",
              "      <td>0</td>\n",
              "      <td>el Raval</td>\n",
              "      <td>1</td>\n",
              "      <td>0.488101</td>\n",
              "    </tr>\n",
              "    <tr>\n",
              "      <th>1</th>\n",
              "      <td>1</td>\n",
              "      <td>el Barri Gòtic</td>\n",
              "      <td>1</td>\n",
              "      <td>0.478627</td>\n",
              "    </tr>\n",
              "    <tr>\n",
              "      <th>2</th>\n",
              "      <td>2</td>\n",
              "      <td>la Barceloneta</td>\n",
              "      <td>1</td>\n",
              "      <td>0.382037</td>\n",
              "    </tr>\n",
              "    <tr>\n",
              "      <th>3</th>\n",
              "      <td>3</td>\n",
              "      <td>Sant Pere, Santa Caterina i la Ribera</td>\n",
              "      <td>1</td>\n",
              "      <td>0.426291</td>\n",
              "    </tr>\n",
              "    <tr>\n",
              "      <th>4</th>\n",
              "      <td>4</td>\n",
              "      <td>el Fort Pienc</td>\n",
              "      <td>1</td>\n",
              "      <td>0.219536</td>\n",
              "    </tr>\n",
              "    <tr>\n",
              "      <th>5</th>\n",
              "      <td>5</td>\n",
              "      <td>la Sagrada Família</td>\n",
              "      <td>1</td>\n",
              "      <td>0.209741</td>\n",
              "    </tr>\n",
              "    <tr>\n",
              "      <th>6</th>\n",
              "      <td>6</td>\n",
              "      <td>la Dreta de l'Eixample</td>\n",
              "      <td>1</td>\n",
              "      <td>0.235882</td>\n",
              "    </tr>\n",
              "    <tr>\n",
              "      <th>7</th>\n",
              "      <td>7</td>\n",
              "      <td>l'Antiga Esquerra de l'Eixample</td>\n",
              "      <td>1</td>\n",
              "      <td>0.222089</td>\n",
              "    </tr>\n",
              "    <tr>\n",
              "      <th>8</th>\n",
              "      <td>8</td>\n",
              "      <td>la Nova Esquerra de l'Eixample</td>\n",
              "      <td>1</td>\n",
              "      <td>0.189836</td>\n",
              "    </tr>\n",
              "    <tr>\n",
              "      <th>9</th>\n",
              "      <td>9</td>\n",
              "      <td>Sant Antoni</td>\n",
              "      <td>1</td>\n",
              "      <td>0.220883</td>\n",
              "    </tr>\n",
              "    <tr>\n",
              "      <th>10</th>\n",
              "      <td>10</td>\n",
              "      <td>el Poble Sec</td>\n",
              "      <td>1</td>\n",
              "      <td>0.309746</td>\n",
              "    </tr>\n",
              "    <tr>\n",
              "      <th>11</th>\n",
              "      <td>11</td>\n",
              "      <td>la Marina del Prat Vermell</td>\n",
              "      <td>2</td>\n",
              "      <td>0.102176</td>\n",
              "    </tr>\n",
              "    <tr>\n",
              "      <th>12</th>\n",
              "      <td>12</td>\n",
              "      <td>la Marina de Port</td>\n",
              "      <td>4</td>\n",
              "      <td>0.156424</td>\n",
              "    </tr>\n",
              "    <tr>\n",
              "      <th>13</th>\n",
              "      <td>13</td>\n",
              "      <td>la Font de la Guatlla</td>\n",
              "      <td>1</td>\n",
              "      <td>0.199879</td>\n",
              "    </tr>\n",
              "    <tr>\n",
              "      <th>14</th>\n",
              "      <td>14</td>\n",
              "      <td>Hostafrancs</td>\n",
              "      <td>1</td>\n",
              "      <td>0.232119</td>\n",
              "    </tr>\n",
              "    <tr>\n",
              "      <th>15</th>\n",
              "      <td>15</td>\n",
              "      <td>la Bordeta</td>\n",
              "      <td>1</td>\n",
              "      <td>0.139278</td>\n",
              "    </tr>\n",
              "    <tr>\n",
              "      <th>16</th>\n",
              "      <td>16</td>\n",
              "      <td>Sants - Badal</td>\n",
              "      <td>4</td>\n",
              "      <td>0.178570</td>\n",
              "    </tr>\n",
              "    <tr>\n",
              "      <th>17</th>\n",
              "      <td>17</td>\n",
              "      <td>Sants</td>\n",
              "      <td>1</td>\n",
              "      <td>0.169960</td>\n",
              "    </tr>\n",
              "    <tr>\n",
              "      <th>18</th>\n",
              "      <td>18</td>\n",
              "      <td>les Corts</td>\n",
              "      <td>0</td>\n",
              "      <td>0.119270</td>\n",
              "    </tr>\n",
              "    <tr>\n",
              "      <th>19</th>\n",
              "      <td>19</td>\n",
              "      <td>la Maternitat i Sant Ramon</td>\n",
              "      <td>1</td>\n",
              "      <td>0.120973</td>\n",
              "    </tr>\n",
              "    <tr>\n",
              "      <th>20</th>\n",
              "      <td>20</td>\n",
              "      <td>Pedralbes</td>\n",
              "      <td>3</td>\n",
              "      <td>0.174564</td>\n",
              "    </tr>\n",
              "    <tr>\n",
              "      <th>21</th>\n",
              "      <td>22</td>\n",
              "      <td>Sarrià</td>\n",
              "      <td>4</td>\n",
              "      <td>0.135737</td>\n",
              "    </tr>\n",
              "    <tr>\n",
              "      <th>22</th>\n",
              "      <td>23</td>\n",
              "      <td>les Tres Torres</td>\n",
              "      <td>1</td>\n",
              "      <td>0.099076</td>\n",
              "    </tr>\n",
              "    <tr>\n",
              "      <th>23</th>\n",
              "      <td>24</td>\n",
              "      <td>Sant Gervasi - la Bonanova</td>\n",
              "      <td>1</td>\n",
              "      <td>0.116446</td>\n",
              "    </tr>\n",
              "    <tr>\n",
              "      <th>24</th>\n",
              "      <td>25</td>\n",
              "      <td>Sant Gervasi - Galvany</td>\n",
              "      <td>1</td>\n",
              "      <td>0.135343</td>\n",
              "    </tr>\n",
              "    <tr>\n",
              "      <th>25</th>\n",
              "      <td>26</td>\n",
              "      <td>el Putxet i el Farró</td>\n",
              "      <td>4</td>\n",
              "      <td>0.145477</td>\n",
              "    </tr>\n",
              "    <tr>\n",
              "      <th>26</th>\n",
              "      <td>27</td>\n",
              "      <td>Vallcarca i els Penitents</td>\n",
              "      <td>3</td>\n",
              "      <td>0.148333</td>\n",
              "    </tr>\n",
              "    <tr>\n",
              "      <th>27</th>\n",
              "      <td>28</td>\n",
              "      <td>el Coll</td>\n",
              "      <td>4</td>\n",
              "      <td>0.157377</td>\n",
              "    </tr>\n",
              "    <tr>\n",
              "      <th>28</th>\n",
              "      <td>29</td>\n",
              "      <td>la Salut</td>\n",
              "      <td>4</td>\n",
              "      <td>0.144105</td>\n",
              "    </tr>\n",
              "    <tr>\n",
              "      <th>29</th>\n",
              "      <td>30</td>\n",
              "      <td>la Vila de Gràcia</td>\n",
              "      <td>1</td>\n",
              "      <td>0.217009</td>\n",
              "    </tr>\n",
              "    <tr>\n",
              "      <th>30</th>\n",
              "      <td>31</td>\n",
              "      <td>el Camp d'en Grassot i Gràcia Nova</td>\n",
              "      <td>1</td>\n",
              "      <td>0.147418</td>\n",
              "    </tr>\n",
              "    <tr>\n",
              "      <th>31</th>\n",
              "      <td>32</td>\n",
              "      <td>el Baix Guinardó</td>\n",
              "      <td>4</td>\n",
              "      <td>0.147589</td>\n",
              "    </tr>\n",
              "    <tr>\n",
              "      <th>32</th>\n",
              "      <td>33</td>\n",
              "      <td>Can Baró</td>\n",
              "      <td>0</td>\n",
              "      <td>0.159132</td>\n",
              "    </tr>\n",
              "    <tr>\n",
              "      <th>33</th>\n",
              "      <td>34</td>\n",
              "      <td>el Guinardó</td>\n",
              "      <td>1</td>\n",
              "      <td>0.152108</td>\n",
              "    </tr>\n",
              "    <tr>\n",
              "      <th>34</th>\n",
              "      <td>35</td>\n",
              "      <td>la Font d'en Fargues</td>\n",
              "      <td>6</td>\n",
              "      <td>0.068657</td>\n",
              "    </tr>\n",
              "    <tr>\n",
              "      <th>35</th>\n",
              "      <td>36</td>\n",
              "      <td>el Carmel</td>\n",
              "      <td>3</td>\n",
              "      <td>0.156814</td>\n",
              "    </tr>\n",
              "    <tr>\n",
              "      <th>36</th>\n",
              "      <td>37</td>\n",
              "      <td>la Teixonera</td>\n",
              "      <td>2</td>\n",
              "      <td>0.152432</td>\n",
              "    </tr>\n",
              "    <tr>\n",
              "      <th>37</th>\n",
              "      <td>38</td>\n",
              "      <td>Sant Genís dels Agudells</td>\n",
              "      <td>4</td>\n",
              "      <td>0.150683</td>\n",
              "    </tr>\n",
              "    <tr>\n",
              "      <th>38</th>\n",
              "      <td>39</td>\n",
              "      <td>Montbau</td>\n",
              "      <td>4</td>\n",
              "      <td>0.135343</td>\n",
              "    </tr>\n",
              "    <tr>\n",
              "      <th>39</th>\n",
              "      <td>40</td>\n",
              "      <td>la Vall d'Hebron</td>\n",
              "      <td>2</td>\n",
              "      <td>0.090827</td>\n",
              "    </tr>\n",
              "    <tr>\n",
              "      <th>40</th>\n",
              "      <td>41</td>\n",
              "      <td>la Clota</td>\n",
              "      <td>4</td>\n",
              "      <td>0.126140</td>\n",
              "    </tr>\n",
              "    <tr>\n",
              "      <th>41</th>\n",
              "      <td>42</td>\n",
              "      <td>Horta</td>\n",
              "      <td>1</td>\n",
              "      <td>0.099694</td>\n",
              "    </tr>\n",
              "    <tr>\n",
              "      <th>42</th>\n",
              "      <td>43</td>\n",
              "      <td>Vilapicina i la Torre Llobeta</td>\n",
              "      <td>1</td>\n",
              "      <td>0.136879</td>\n",
              "    </tr>\n",
              "    <tr>\n",
              "      <th>43</th>\n",
              "      <td>44</td>\n",
              "      <td>Porta</td>\n",
              "      <td>1</td>\n",
              "      <td>0.153309</td>\n",
              "    </tr>\n",
              "    <tr>\n",
              "      <th>44</th>\n",
              "      <td>45</td>\n",
              "      <td>el Turó de la Peira</td>\n",
              "      <td>7</td>\n",
              "      <td>0.214771</td>\n",
              "    </tr>\n",
              "    <tr>\n",
              "      <th>45</th>\n",
              "      <td>46</td>\n",
              "      <td>Can Peguera</td>\n",
              "      <td>7</td>\n",
              "      <td>0.107642</td>\n",
              "    </tr>\n",
              "    <tr>\n",
              "      <th>46</th>\n",
              "      <td>47</td>\n",
              "      <td>la Guineueta</td>\n",
              "      <td>7</td>\n",
              "      <td>0.082956</td>\n",
              "    </tr>\n",
              "    <tr>\n",
              "      <th>47</th>\n",
              "      <td>48</td>\n",
              "      <td>Canyelles</td>\n",
              "      <td>7</td>\n",
              "      <td>0.053930</td>\n",
              "    </tr>\n",
              "    <tr>\n",
              "      <th>48</th>\n",
              "      <td>49</td>\n",
              "      <td>les Roquetes</td>\n",
              "      <td>2</td>\n",
              "      <td>0.213301</td>\n",
              "    </tr>\n",
              "    <tr>\n",
              "      <th>49</th>\n",
              "      <td>50</td>\n",
              "      <td>Verdun</td>\n",
              "      <td>0</td>\n",
              "      <td>0.198515</td>\n",
              "    </tr>\n",
              "    <tr>\n",
              "      <th>50</th>\n",
              "      <td>51</td>\n",
              "      <td>la Prosperitat</td>\n",
              "      <td>0</td>\n",
              "      <td>0.149530</td>\n",
              "    </tr>\n",
              "    <tr>\n",
              "      <th>51</th>\n",
              "      <td>52</td>\n",
              "      <td>la Trinitat Nova</td>\n",
              "      <td>2</td>\n",
              "      <td>0.207574</td>\n",
              "    </tr>\n",
              "    <tr>\n",
              "      <th>52</th>\n",
              "      <td>54</td>\n",
              "      <td>Ciutat Meridiana</td>\n",
              "      <td>7</td>\n",
              "      <td>0.287289</td>\n",
              "    </tr>\n",
              "    <tr>\n",
              "      <th>53</th>\n",
              "      <td>55</td>\n",
              "      <td>Vallbona</td>\n",
              "      <td>5</td>\n",
              "      <td>0.153418</td>\n",
              "    </tr>\n",
              "    <tr>\n",
              "      <th>54</th>\n",
              "      <td>56</td>\n",
              "      <td>la Trinitat Vella</td>\n",
              "      <td>0</td>\n",
              "      <td>0.282368</td>\n",
              "    </tr>\n",
              "    <tr>\n",
              "      <th>55</th>\n",
              "      <td>57</td>\n",
              "      <td>Baró de Viver</td>\n",
              "      <td>7</td>\n",
              "      <td>0.134505</td>\n",
              "    </tr>\n",
              "    <tr>\n",
              "      <th>56</th>\n",
              "      <td>58</td>\n",
              "      <td>el Bon Pastor</td>\n",
              "      <td>3</td>\n",
              "      <td>0.131608</td>\n",
              "    </tr>\n",
              "    <tr>\n",
              "      <th>57</th>\n",
              "      <td>59</td>\n",
              "      <td>Sant Andreu</td>\n",
              "      <td>2</td>\n",
              "      <td>0.079819</td>\n",
              "    </tr>\n",
              "    <tr>\n",
              "      <th>58</th>\n",
              "      <td>60</td>\n",
              "      <td>la Sagrera</td>\n",
              "      <td>0</td>\n",
              "      <td>0.134725</td>\n",
              "    </tr>\n",
              "    <tr>\n",
              "      <th>59</th>\n",
              "      <td>61</td>\n",
              "      <td>el Congrés i els Indians</td>\n",
              "      <td>0</td>\n",
              "      <td>0.143357</td>\n",
              "    </tr>\n",
              "    <tr>\n",
              "      <th>60</th>\n",
              "      <td>62</td>\n",
              "      <td>Navas</td>\n",
              "      <td>4</td>\n",
              "      <td>0.147772</td>\n",
              "    </tr>\n",
              "    <tr>\n",
              "      <th>61</th>\n",
              "      <td>63</td>\n",
              "      <td>el Camp de l'Arpa del Clot</td>\n",
              "      <td>4</td>\n",
              "      <td>0.180634</td>\n",
              "    </tr>\n",
              "    <tr>\n",
              "      <th>62</th>\n",
              "      <td>64</td>\n",
              "      <td>el Clot</td>\n",
              "      <td>1</td>\n",
              "      <td>0.150475</td>\n",
              "    </tr>\n",
              "    <tr>\n",
              "      <th>63</th>\n",
              "      <td>65</td>\n",
              "      <td>el Parc i la Llacuna del Poblenou</td>\n",
              "      <td>1</td>\n",
              "      <td>0.203828</td>\n",
              "    </tr>\n",
              "    <tr>\n",
              "      <th>64</th>\n",
              "      <td>66</td>\n",
              "      <td>la Vila Olímpica del Poblenou</td>\n",
              "      <td>1</td>\n",
              "      <td>0.178969</td>\n",
              "    </tr>\n",
              "    <tr>\n",
              "      <th>65</th>\n",
              "      <td>67</td>\n",
              "      <td>el Poblenou</td>\n",
              "      <td>1</td>\n",
              "      <td>0.190816</td>\n",
              "    </tr>\n",
              "    <tr>\n",
              "      <th>66</th>\n",
              "      <td>68</td>\n",
              "      <td>Diagonal Mar i el Front Marítim del Poblenou</td>\n",
              "      <td>1</td>\n",
              "      <td>0.194421</td>\n",
              "    </tr>\n",
              "    <tr>\n",
              "      <th>67</th>\n",
              "      <td>69</td>\n",
              "      <td>el Besòs i el Maresme</td>\n",
              "      <td>4</td>\n",
              "      <td>0.252055</td>\n",
              "    </tr>\n",
              "    <tr>\n",
              "      <th>68</th>\n",
              "      <td>70</td>\n",
              "      <td>Provençals del Poblenou</td>\n",
              "      <td>1</td>\n",
              "      <td>0.152454</td>\n",
              "    </tr>\n",
              "    <tr>\n",
              "      <th>69</th>\n",
              "      <td>71</td>\n",
              "      <td>Sant Martí de Provençals</td>\n",
              "      <td>1</td>\n",
              "      <td>0.126402</td>\n",
              "    </tr>\n",
              "    <tr>\n",
              "      <th>70</th>\n",
              "      <td>72</td>\n",
              "      <td>la Verneda i la Pau</td>\n",
              "      <td>7</td>\n",
              "      <td>0.124231</td>\n",
              "    </tr>\n",
              "  </tbody>\n",
              "</table>\n",
              "</div>"
            ],
            "text/plain": [
              "    Unnamed: 0                             Neighborhood.Name  Cluster Labels  \\\n",
              "0            0                                      el Raval               1   \n",
              "1            1                                el Barri Gòtic               1   \n",
              "2            2                                la Barceloneta               1   \n",
              "3            3         Sant Pere, Santa Caterina i la Ribera               1   \n",
              "4            4                                 el Fort Pienc               1   \n",
              "5            5                            la Sagrada Família               1   \n",
              "6            6                        la Dreta de l'Eixample               1   \n",
              "7            7               l'Antiga Esquerra de l'Eixample               1   \n",
              "8            8                la Nova Esquerra de l'Eixample               1   \n",
              "9            9                                   Sant Antoni               1   \n",
              "10          10                                  el Poble Sec               1   \n",
              "11          11                    la Marina del Prat Vermell               2   \n",
              "12          12                             la Marina de Port               4   \n",
              "13          13                         la Font de la Guatlla               1   \n",
              "14          14                                   Hostafrancs               1   \n",
              "15          15                                    la Bordeta               1   \n",
              "16          16                                 Sants - Badal               4   \n",
              "17          17                                         Sants               1   \n",
              "18          18                                     les Corts               0   \n",
              "19          19                    la Maternitat i Sant Ramon               1   \n",
              "20          20                                     Pedralbes               3   \n",
              "21          22                                        Sarrià               4   \n",
              "22          23                               les Tres Torres               1   \n",
              "23          24                    Sant Gervasi - la Bonanova               1   \n",
              "24          25                        Sant Gervasi - Galvany               1   \n",
              "25          26                          el Putxet i el Farró               4   \n",
              "26          27                     Vallcarca i els Penitents               3   \n",
              "27          28                                       el Coll               4   \n",
              "28          29                                      la Salut               4   \n",
              "29          30                             la Vila de Gràcia               1   \n",
              "30          31            el Camp d'en Grassot i Gràcia Nova               1   \n",
              "31          32                              el Baix Guinardó               4   \n",
              "32          33                                      Can Baró               0   \n",
              "33          34                                   el Guinardó               1   \n",
              "34          35                          la Font d'en Fargues               6   \n",
              "35          36                                     el Carmel               3   \n",
              "36          37                                  la Teixonera               2   \n",
              "37          38                      Sant Genís dels Agudells               4   \n",
              "38          39                                       Montbau               4   \n",
              "39          40                              la Vall d'Hebron               2   \n",
              "40          41                                      la Clota               4   \n",
              "41          42                                         Horta               1   \n",
              "42          43                 Vilapicina i la Torre Llobeta               1   \n",
              "43          44                                         Porta               1   \n",
              "44          45                           el Turó de la Peira               7   \n",
              "45          46                                   Can Peguera               7   \n",
              "46          47                                  la Guineueta               7   \n",
              "47          48                                     Canyelles               7   \n",
              "48          49                                  les Roquetes               2   \n",
              "49          50                                        Verdun               0   \n",
              "50          51                                la Prosperitat               0   \n",
              "51          52                              la Trinitat Nova               2   \n",
              "52          54                              Ciutat Meridiana               7   \n",
              "53          55                                      Vallbona               5   \n",
              "54          56                             la Trinitat Vella               0   \n",
              "55          57                                 Baró de Viver               7   \n",
              "56          58                                 el Bon Pastor               3   \n",
              "57          59                                   Sant Andreu               2   \n",
              "58          60                                    la Sagrera               0   \n",
              "59          61                      el Congrés i els Indians               0   \n",
              "60          62                                         Navas               4   \n",
              "61          63                    el Camp de l'Arpa del Clot               4   \n",
              "62          64                                       el Clot               1   \n",
              "63          65             el Parc i la Llacuna del Poblenou               1   \n",
              "64          66                 la Vila Olímpica del Poblenou               1   \n",
              "65          67                                   el Poblenou               1   \n",
              "66          68  Diagonal Mar i el Front Marítim del Poblenou               1   \n",
              "67          69                         el Besòs i el Maresme               4   \n",
              "68          70                       Provençals del Poblenou               1   \n",
              "69          71                      Sant Martí de Provençals               1   \n",
              "70          72                           la Verneda i la Pau               7   \n",
              "\n",
              "        rate  \n",
              "0   0.488101  \n",
              "1   0.478627  \n",
              "2   0.382037  \n",
              "3   0.426291  \n",
              "4   0.219536  \n",
              "5   0.209741  \n",
              "6   0.235882  \n",
              "7   0.222089  \n",
              "8   0.189836  \n",
              "9   0.220883  \n",
              "10  0.309746  \n",
              "11  0.102176  \n",
              "12  0.156424  \n",
              "13  0.199879  \n",
              "14  0.232119  \n",
              "15  0.139278  \n",
              "16  0.178570  \n",
              "17  0.169960  \n",
              "18  0.119270  \n",
              "19  0.120973  \n",
              "20  0.174564  \n",
              "21  0.135737  \n",
              "22  0.099076  \n",
              "23  0.116446  \n",
              "24  0.135343  \n",
              "25  0.145477  \n",
              "26  0.148333  \n",
              "27  0.157377  \n",
              "28  0.144105  \n",
              "29  0.217009  \n",
              "30  0.147418  \n",
              "31  0.147589  \n",
              "32  0.159132  \n",
              "33  0.152108  \n",
              "34  0.068657  \n",
              "35  0.156814  \n",
              "36  0.152432  \n",
              "37  0.150683  \n",
              "38  0.135343  \n",
              "39  0.090827  \n",
              "40  0.126140  \n",
              "41  0.099694  \n",
              "42  0.136879  \n",
              "43  0.153309  \n",
              "44  0.214771  \n",
              "45  0.107642  \n",
              "46  0.082956  \n",
              "47  0.053930  \n",
              "48  0.213301  \n",
              "49  0.198515  \n",
              "50  0.149530  \n",
              "51  0.207574  \n",
              "52  0.287289  \n",
              "53  0.153418  \n",
              "54  0.282368  \n",
              "55  0.134505  \n",
              "56  0.131608  \n",
              "57  0.079819  \n",
              "58  0.134725  \n",
              "59  0.143357  \n",
              "60  0.147772  \n",
              "61  0.180634  \n",
              "62  0.150475  \n",
              "63  0.203828  \n",
              "64  0.178969  \n",
              "65  0.190816  \n",
              "66  0.194421  \n",
              "67  0.252055  \n",
              "68  0.152454  \n",
              "69  0.126402  \n",
              "70  0.124231  "
            ]
          },
          "metadata": {
            "tags": []
          },
          "execution_count": 100
        }
      ]
    },
    {
      "cell_type": "markdown",
      "metadata": {
        "id": "RcYvQWLpbOzp",
        "colab_type": "text"
      },
      "source": [
        "# **Violin Plot of the foreign nationality rate vs Clusters**"
      ]
    },
    {
      "cell_type": "code",
      "metadata": {
        "id": "DPz9tTxLv9Ts",
        "colab_type": "code",
        "colab": {
          "base_uri": "https://localhost:8080/",
          "height": 279
        },
        "outputId": "803f1a4e-afd1-4bbc-ddd5-2ce7357fcd62"
      },
      "source": [
        "ax = sns.violinplot(x=\"Cluster Labels\", y=\"rate\", data=nationalityrate_merged)"
      ],
      "execution_count": null,
      "outputs": [
        {
          "output_type": "display_data",
          "data": {
            "image/png": "[encoded data removed]",
            "text/plain": [
              "<Figure size 432x288 with 1 Axes>"
            ]
          },
          "metadata": {
            "tags": [],
            "needs_background": "light"
          }
        }
      ]
    },
    {
      "cell_type": "code",
      "metadata": {
        "id": "uEfT9_mCldfw",
        "colab_type": "code",
        "colab": {}
      },
      "source": [
        ""
      ],
      "execution_count": null,
      "outputs": []
    }
  ]
}